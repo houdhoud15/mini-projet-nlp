{
  "nbformat": 4,
  "nbformat_minor": 0,
  "metadata": {
    "colab": {
      "name": "Sentiment_analysis.ipynb",
      "provenance": [],
      "collapsed_sections": [],
      "authorship_tag": "ABX9TyMVQfzxQX3hYCHr+KYlC1ad",
      "include_colab_link": true
    },
    "kernelspec": {
      "name": "python3",
      "display_name": "Python 3"
    },
    "language_info": {
      "name": "python"
    }
  },
  "cells": [
    {
      "cell_type": "markdown",
      "metadata": {
        "id": "view-in-github",
        "colab_type": "text"
      },
      "source": [
        "<a href=\"https://colab.research.google.com/github/houdhoud15/mini-projet-nlp/blob/main/Sentiment_analysis.ipynb\" target=\"_parent\"><img src=\"https://colab.research.google.com/assets/colab-badge.svg\" alt=\"Open In Colab\"/></a>"
      ]
    },
    {
      "cell_type": "code",
      "metadata": {
        "colab": {
          "base_uri": "https://localhost:8080/"
        },
        "id": "ZnRwMbSjn4Ep",
        "outputId": "9ccfc070-c11a-4eb0-e49f-4d7d26d0e604"
      },
      "source": [
        "!pip install torch==1.8.1+cu111 torchvision==0.9.1+cu111 torchaudio===0.8.1 -f https://download.pytorch.org/whl/torch_stable.html"
      ],
      "execution_count": 1,
      "outputs": [
        {
          "output_type": "stream",
          "name": "stdout",
          "text": [
            "Looking in links: https://download.pytorch.org/whl/torch_stable.html\n",
            "Collecting torch==1.8.1+cu111\n",
            "  Downloading https://download.pytorch.org/whl/cu111/torch-1.8.1%2Bcu111-cp37-cp37m-linux_x86_64.whl (1982.2 MB)\n",
            "\u001b[K     |█████████████▌                  | 834.1 MB 1.5 MB/s eta 0:12:50tcmalloc: large alloc 1147494400 bytes == 0x55cfc9faa000 @  0x7fa6a5288615 0x55cf914e702c 0x55cf915c717a 0x55cf914e9e4d 0x55cf915dbc0d 0x55cf9155e0d8 0x55cf91558c35 0x55cf914eb73a 0x55cf9155df40 0x55cf91558c35 0x55cf914eb73a 0x55cf9155a93b 0x55cf915dca56 0x55cf91559fb3 0x55cf915dca56 0x55cf91559fb3 0x55cf915dca56 0x55cf91559fb3 0x55cf914ebb99 0x55cf9152ee79 0x55cf914ea7b2 0x55cf9155de65 0x55cf91558c35 0x55cf914eb73a 0x55cf9155a93b 0x55cf91558c35 0x55cf914eb73a 0x55cf91559b0e 0x55cf914eb65a 0x55cf91559d67 0x55cf91558c35\n",
            "\u001b[K     |█████████████████               | 1055.7 MB 1.4 MB/s eta 0:11:17tcmalloc: large alloc 1434370048 bytes == 0x55d00e600000 @  0x7fa6a5288615 0x55cf914e702c 0x55cf915c717a 0x55cf914e9e4d 0x55cf915dbc0d 0x55cf9155e0d8 0x55cf91558c35 0x55cf914eb73a 0x55cf9155df40 0x55cf91558c35 0x55cf914eb73a 0x55cf9155a93b 0x55cf915dca56 0x55cf91559fb3 0x55cf915dca56 0x55cf91559fb3 0x55cf915dca56 0x55cf91559fb3 0x55cf914ebb99 0x55cf9152ee79 0x55cf914ea7b2 0x55cf9155de65 0x55cf91558c35 0x55cf914eb73a 0x55cf9155a93b 0x55cf91558c35 0x55cf914eb73a 0x55cf91559b0e 0x55cf914eb65a 0x55cf91559d67 0x55cf91558c35\n",
            "\u001b[K     |█████████████████████▋          | 1336.2 MB 1.3 MB/s eta 0:08:07tcmalloc: large alloc 1792966656 bytes == 0x55cf93432000 @  0x7fa6a5288615 0x55cf914e702c 0x55cf915c717a 0x55cf914e9e4d 0x55cf915dbc0d 0x55cf9155e0d8 0x55cf91558c35 0x55cf914eb73a 0x55cf9155df40 0x55cf91558c35 0x55cf914eb73a 0x55cf9155a93b 0x55cf915dca56 0x55cf91559fb3 0x55cf915dca56 0x55cf91559fb3 0x55cf915dca56 0x55cf91559fb3 0x55cf914ebb99 0x55cf9152ee79 0x55cf914ea7b2 0x55cf9155de65 0x55cf91558c35 0x55cf914eb73a 0x55cf9155a93b 0x55cf91558c35 0x55cf914eb73a 0x55cf91559b0e 0x55cf914eb65a 0x55cf91559d67 0x55cf91558c35\n",
            "\u001b[K     |███████████████████████████▎    | 1691.1 MB 1.3 MB/s eta 0:03:47tcmalloc: large alloc 2241208320 bytes == 0x55cffe21a000 @  0x7fa6a5288615 0x55cf914e702c 0x55cf915c717a 0x55cf914e9e4d 0x55cf915dbc0d 0x55cf9155e0d8 0x55cf91558c35 0x55cf914eb73a 0x55cf9155df40 0x55cf91558c35 0x55cf914eb73a 0x55cf9155a93b 0x55cf915dca56 0x55cf91559fb3 0x55cf915dca56 0x55cf91559fb3 0x55cf915dca56 0x55cf91559fb3 0x55cf914ebb99 0x55cf9152ee79 0x55cf914ea7b2 0x55cf9155de65 0x55cf91558c35 0x55cf914eb73a 0x55cf9155a93b 0x55cf91558c35 0x55cf914eb73a 0x55cf91559b0e 0x55cf914eb65a 0x55cf91559d67 0x55cf91558c35\n",
            "\u001b[K     |████████████████████████████████| 1982.2 MB 1.2 MB/s eta 0:00:01tcmalloc: large alloc 1982177280 bytes == 0x55d083b7c000 @  0x7fa6a52871e7 0x55cf9151cae7 0x55cf914e702c 0x55cf915c717a 0x55cf914e9e4d 0x55cf915dbc0d 0x55cf9155e0d8 0x55cf91558c35 0x55cf914eb73a 0x55cf91559d67 0x55cf91558c35 0x55cf914eb73a 0x55cf91559d67 0x55cf91558c35 0x55cf914eb73a 0x55cf91559d67 0x55cf91558c35 0x55cf914eb73a 0x55cf91559d67 0x55cf91558c35 0x55cf914eb73a 0x55cf91559d67 0x55cf914eb65a 0x55cf91559d67 0x55cf91558c35 0x55cf914eb73a 0x55cf9155a93b 0x55cf91558c35 0x55cf914eb73a 0x55cf9155a93b 0x55cf91558c35\n",
            "tcmalloc: large alloc 2477727744 bytes == 0x55d0f9dd6000 @  0x7fa6a5288615 0x55cf914e702c 0x55cf915c717a 0x55cf914e9e4d 0x55cf915dbc0d 0x55cf9155e0d8 0x55cf91558c35 0x55cf914eb73a 0x55cf91559d67 0x55cf91558c35 0x55cf914eb73a 0x55cf91559d67 0x55cf91558c35 0x55cf914eb73a 0x55cf91559d67 0x55cf91558c35 0x55cf914eb73a 0x55cf91559d67 0x55cf91558c35 0x55cf914eb73a 0x55cf91559d67 0x55cf914eb65a 0x55cf91559d67 0x55cf91558c35 0x55cf914eb73a 0x55cf9155a93b 0x55cf91558c35 0x55cf914eb73a 0x55cf9155a93b 0x55cf91558c35 0x55cf914ebdd1\n",
            "\u001b[K     |████████████████████████████████| 1982.2 MB 1.1 kB/s \n",
            "\u001b[?25hCollecting torchvision==0.9.1+cu111\n",
            "  Downloading https://download.pytorch.org/whl/cu111/torchvision-0.9.1%2Bcu111-cp37-cp37m-linux_x86_64.whl (17.6 MB)\n",
            "\u001b[K     |████████████████████████████████| 17.6 MB 1.3 MB/s \n",
            "\u001b[?25hCollecting torchaudio===0.8.1\n",
            "  Downloading torchaudio-0.8.1-cp37-cp37m-manylinux1_x86_64.whl (1.9 MB)\n",
            "\u001b[K     |████████████████████████████████| 1.9 MB 5.0 MB/s \n",
            "\u001b[?25hRequirement already satisfied: typing-extensions in /usr/local/lib/python3.7/dist-packages (from torch==1.8.1+cu111) (3.7.4.3)\n",
            "Requirement already satisfied: numpy in /usr/local/lib/python3.7/dist-packages (from torch==1.8.1+cu111) (1.19.5)\n",
            "Requirement already satisfied: pillow>=4.1.1 in /usr/local/lib/python3.7/dist-packages (from torchvision==0.9.1+cu111) (7.1.2)\n",
            "Installing collected packages: torch, torchvision, torchaudio\n",
            "  Attempting uninstall: torch\n",
            "    Found existing installation: torch 1.9.0+cu102\n",
            "    Uninstalling torch-1.9.0+cu102:\n",
            "      Successfully uninstalled torch-1.9.0+cu102\n",
            "  Attempting uninstall: torchvision\n",
            "    Found existing installation: torchvision 0.10.0+cu102\n",
            "    Uninstalling torchvision-0.10.0+cu102:\n",
            "      Successfully uninstalled torchvision-0.10.0+cu102\n",
            "\u001b[31mERROR: pip's dependency resolver does not currently take into account all the packages that are installed. This behaviour is the source of the following dependency conflicts.\n",
            "torchtext 0.10.0 requires torch==1.9.0, but you have torch 1.8.1+cu111 which is incompatible.\u001b[0m\n",
            "Successfully installed torch-1.8.1+cu111 torchaudio-0.8.1 torchvision-0.9.1+cu111\n"
          ]
        }
      ]
    },
    {
      "cell_type": "code",
      "metadata": {
        "colab": {
          "base_uri": "https://localhost:8080/"
        },
        "id": "nzpkC_leHiT0",
        "outputId": "e57c5dc3-9a05-4b68-9adb-cd8b0b3229fd"
      },
      "source": [
        "!pip install transformers "
      ],
      "execution_count": 2,
      "outputs": [
        {
          "output_type": "stream",
          "name": "stdout",
          "text": [
            "Collecting transformers\n",
            "  Downloading transformers-4.10.0-py3-none-any.whl (2.8 MB)\n",
            "\u001b[K     |████████████████████████████████| 2.8 MB 5.2 MB/s \n",
            "\u001b[?25hRequirement already satisfied: tqdm>=4.27 in /usr/local/lib/python3.7/dist-packages (from transformers) (4.62.0)\n",
            "Requirement already satisfied: importlib-metadata in /usr/local/lib/python3.7/dist-packages (from transformers) (4.6.4)\n",
            "Requirement already satisfied: filelock in /usr/local/lib/python3.7/dist-packages (from transformers) (3.0.12)\n",
            "Collecting huggingface-hub>=0.0.12\n",
            "  Downloading huggingface_hub-0.0.16-py3-none-any.whl (50 kB)\n",
            "\u001b[K     |████████████████████████████████| 50 kB 5.0 MB/s \n",
            "\u001b[?25hCollecting pyyaml>=5.1\n",
            "  Downloading PyYAML-5.4.1-cp37-cp37m-manylinux1_x86_64.whl (636 kB)\n",
            "\u001b[K     |████████████████████████████████| 636 kB 53.8 MB/s \n",
            "\u001b[?25hCollecting sacremoses\n",
            "  Downloading sacremoses-0.0.45-py3-none-any.whl (895 kB)\n",
            "\u001b[K     |████████████████████████████████| 895 kB 65.5 MB/s \n",
            "\u001b[?25hRequirement already satisfied: numpy>=1.17 in /usr/local/lib/python3.7/dist-packages (from transformers) (1.19.5)\n",
            "Requirement already satisfied: packaging in /usr/local/lib/python3.7/dist-packages (from transformers) (21.0)\n",
            "Requirement already satisfied: regex!=2019.12.17 in /usr/local/lib/python3.7/dist-packages (from transformers) (2019.12.20)\n",
            "Collecting tokenizers<0.11,>=0.10.1\n",
            "  Downloading tokenizers-0.10.3-cp37-cp37m-manylinux_2_5_x86_64.manylinux1_x86_64.manylinux_2_12_x86_64.manylinux2010_x86_64.whl (3.3 MB)\n",
            "\u001b[K     |████████████████████████████████| 3.3 MB 39.2 MB/s \n",
            "\u001b[?25hRequirement already satisfied: requests in /usr/local/lib/python3.7/dist-packages (from transformers) (2.23.0)\n",
            "Requirement already satisfied: typing-extensions in /usr/local/lib/python3.7/dist-packages (from huggingface-hub>=0.0.12->transformers) (3.7.4.3)\n",
            "Requirement already satisfied: pyparsing>=2.0.2 in /usr/local/lib/python3.7/dist-packages (from packaging->transformers) (2.4.7)\n",
            "Requirement already satisfied: zipp>=0.5 in /usr/local/lib/python3.7/dist-packages (from importlib-metadata->transformers) (3.5.0)\n",
            "Requirement already satisfied: urllib3!=1.25.0,!=1.25.1,<1.26,>=1.21.1 in /usr/local/lib/python3.7/dist-packages (from requests->transformers) (1.24.3)\n",
            "Requirement already satisfied: chardet<4,>=3.0.2 in /usr/local/lib/python3.7/dist-packages (from requests->transformers) (3.0.4)\n",
            "Requirement already satisfied: certifi>=2017.4.17 in /usr/local/lib/python3.7/dist-packages (from requests->transformers) (2021.5.30)\n",
            "Requirement already satisfied: idna<3,>=2.5 in /usr/local/lib/python3.7/dist-packages (from requests->transformers) (2.10)\n",
            "Requirement already satisfied: click in /usr/local/lib/python3.7/dist-packages (from sacremoses->transformers) (7.1.2)\n",
            "Requirement already satisfied: joblib in /usr/local/lib/python3.7/dist-packages (from sacremoses->transformers) (1.0.1)\n",
            "Requirement already satisfied: six in /usr/local/lib/python3.7/dist-packages (from sacremoses->transformers) (1.15.0)\n",
            "Installing collected packages: tokenizers, sacremoses, pyyaml, huggingface-hub, transformers\n",
            "  Attempting uninstall: pyyaml\n",
            "    Found existing installation: PyYAML 3.13\n",
            "    Uninstalling PyYAML-3.13:\n",
            "      Successfully uninstalled PyYAML-3.13\n",
            "Successfully installed huggingface-hub-0.0.16 pyyaml-5.4.1 sacremoses-0.0.45 tokenizers-0.10.3 transformers-4.10.0\n"
          ]
        }
      ]
    },
    {
      "cell_type": "code",
      "metadata": {
        "colab": {
          "base_uri": "https://localhost:8080/",
          "height": 535
        },
        "id": "gtLqQeBiH0_2",
        "outputId": "5507175f-4bb1-45bf-b9a5-9a269ff7ef3d"
      },
      "source": [
        "from transformers import AutoTokenizer, AutoModelForSequenceClassification\n",
        "import torch\n",
        "from urllib.request import urlopen, Request\n",
        "from bs4 import BeautifulSoup\n",
        "import pandas as pd\n",
        "import matplotlib.pyplot as plt\n",
        "\n",
        "tokenizer = AutoTokenizer.from_pretrained('nlptown/bert-base-multilingual-uncased-sentiment')\n",
        "\n",
        "model = AutoModelForSequenceClassification.from_pretrained('nlptown/bert-base-multilingual-uncased-sentiment')\n",
        "\n",
        "hespress_url = 'https://fr.hespress.com/'\n",
        "news = ['politique','economie', 'sport','societe','monde','culture','opinions']\n",
        "\n",
        "news_tables = {}\n",
        "for new in news:\n",
        "    url = hespress_url + new\n",
        "\n",
        "    req = Request(url=url, headers={'user-agent': 'my-app'})\n",
        "    response = urlopen(req)\n",
        "\n",
        "    html = BeautifulSoup(response, features='html.parser')\n",
        "    news_table = html.find(id='listing')\n",
        "    news_tables[new] = news_table\n",
        "     \n",
        "\n",
        "parsed_data = []\n",
        "\n",
        "for new, news_table in news_tables.items():\n",
        "\n",
        "    for row in news_table.findAll('h3'):\n",
        "\n",
        "        title = row.text\n",
        "\n",
        "        parsed_data.append([new, title])\n",
        "\n",
        "dataframe = pd.DataFrame(parsed_data, columns=['new', 'title'])\n",
        "\n",
        "def sentiment_score(title):\n",
        "    tokens = tokenizer.encode(title, return_tensors='pt')\n",
        "    result = model(tokens)\n",
        "    return int(torch.argmax(result.logits))+1\n",
        "\n",
        "dataframe['sentiment'] = dataframe['title'].apply(lambda x: sentiment_score(x[:512]))\n",
        "\n",
        "\n",
        "plt.figure(figsize=(10,8))\n",
        "mean_df = dataframe.groupby(['new']).mean()\n",
        "mean_df=mean_df.unstack()\n",
        "mean_df = mean_df.xs('sentiment').transpose()\n",
        "mean_df.plot(kind='bar')\n",
        "plt.show()\n"
      ],
      "execution_count": 4,
      "outputs": [
        {
          "output_type": "display_data",
          "data": {
            "image/png": "[encoded data removed]",
            "text/plain": [
              "<Figure size 720x576 with 1 Axes>"
            ]
          },
          "metadata": {
            "needs_background": "light"
          }
        }
      ]
    }
  ]
}